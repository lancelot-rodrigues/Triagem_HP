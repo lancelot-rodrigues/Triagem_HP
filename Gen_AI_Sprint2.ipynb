{
  "nbformat": 4,
  "nbformat_minor": 0,
  "metadata": {
    "colab": {
      "provenance": []
    },
    "kernelspec": {
      "name": "python3",
      "display_name": "Python 3"
    },
    "language_info": {
      "name": "python"
    }
  },
  "cells": [
    {
      "cell_type": "markdown",
      "source": [
        "# 1. Definição do Problema e dos Rótulos de Classificação"
      ],
      "metadata": {
        "id": "7HIrfDVmWF8h"
      }
    },
    {
      "cell_type": "markdown",
      "source": [
        "### **Justificativa das Categorias Criadas**\n",
        "Nesta segunda fase do projeto, o objetivo foi construir um sistema capaz de classificar os anúncios de cartuchos de impressora. A partir dos dados estruturados na etapa anterior, buscamos criar uma categorização que fosse util para a análise de mercado e para a identificação de anúncios potencialmente problemáticos.\n",
        "### **Categoria-Alvo Escolhida:** Classificação Binária de Anúncios\n",
        "Inicialmente, consideramos uma classificação com múltiplas categorias, como \"Original\", \"Compativel\" e \"Suspeito\". No entanto, ao longo do desenvolvimento, percebemos que para o objetivo de negócio, uma abordagem binária seria mais direta e eficaz. O problema central é identificar quais anúncios requerem uma análise mais aprofundada.\n",
        "Dessa forma, definimos os seguintes rótulos finais:\n",
        "1. Original: Anúncios que, com base nos dados disponíveis, apresentam características de um produto genuíno da HP e não levantam alertas significativos.\n",
        "2. Requer Atenção: Esta categoria agrupa todos os outros tipos de anúncio. Inclui produtos que se declaram abertamente como \"compatíveis\" ou \"remanufaturados\", bem como aqueles que, embora aleguem ser originais, apresentam sinais de alerta, como preço muito discrepante ou baixa qualidade na descrição.\n",
        "\n",
        "### **Motivação e Critério:**\n",
        "A motivação para esta abordagem é a otimização de recursos. Em vez de uma analise manual de todos os anúncios, o sistema deve ser capaz de filtrar e apresentar para uma equipe humana apenas aqueles que se enquadram na categoria \"Requer Atenção\". Isso permite uma ação mais focada e eficiente na proteção da marca e do consumidor. Os critérios para a classificação são baseados em um conjunto de regras heurísticas que consideram a originalidade declarada, a qualidade da descrição, a confiança no vendedor e o desvio do preço em relação à média da categoria."
      ],
      "metadata": {
        "id": "G6j6DgyZWH2L"
      }
    },
    {
      "cell_type": "code",
      "source": [
        "# Bloco 0: Instalação das bibliotecas\n",
        "!pip install pandas scikit-learn seaborn matplotlib -q"
      ],
      "metadata": {
        "id": "oMtuonKhTqXd"
      },
      "execution_count": null,
      "outputs": []
    },
    {
      "cell_type": "code",
      "source": [
        "# Bloco 1: Importações\n",
        "try:\n",
        "    import pandas as pd\n",
        "    import sklearn\n",
        "    import seaborn as sns\n",
        "    import matplotlib.pyplot as plt\n",
        "    print(\"Bibliotecas principais já instaladas.\")\n",
        "except ImportError:\n",
        "    print(\"Instalando bibliotecas necessárias...\")\n",
        "    import pandas as pd\n",
        "    import sklearn\n",
        "    import seaborn as sns\n",
        "    import matplotlib.pyplot as plt\n",
        "\n",
        "from sklearn.model_selection import train_test_split\n",
        "from sklearn.ensemble import RandomForestClassifier\n",
        "from sklearn.metrics import classification_report, confusion_matrix, accuracy_score\n",
        "from sklearn.preprocessing import LabelEncoder\n",
        "import numpy as np\n",
        "\n",
        "print(\"\\nConfiguração inicial concluída.\")"
      ],
      "metadata": {
        "colab": {
          "base_uri": "https://localhost:8080/"
        },
        "id": "UhLxCvYBekn_",
        "outputId": "bc580d5f-ae0c-45c7-d04c-1341c360e4f1"
      },
      "execution_count": 1,
      "outputs": [
        {
          "output_type": "stream",
          "name": "stdout",
          "text": [
            "Bibliotecas principais já instaladas.\n",
            "\n",
            "Configuração inicial concluída.\n"
          ]
        }
      ]
    },
    {
      "cell_type": "code",
      "source": [
        "# Bloco 2: Carregamento e Preparação dos Dados (Versão Corrigida)\n",
        "# Carrega o dataset enriquecido\n",
        "file_path = 'ml_produtos_hp_final_features_target.csv'\n",
        "try:\n",
        "    df = pd.read_csv(file_path, delimiter=';')\n",
        "    print(f\"Dataset '{file_path}' carregado com sucesso!\")\n",
        "    print(f\"O dataset tem {df.shape[0]} linhas e {df.shape[1]} colunas.\")\n",
        "except FileNotFoundError:\n",
        "    print(f\"ERRO: Arquivo '{file_path}' não encontrado. Faça o upload do arquivo para o Colab.\")\n",
        "    assert False, \"Arquivo não encontrado.\"\n",
        "\n",
        "# Limpeza e Preparação da Variável Alvo (Target)\n",
        "target_column = 'label_heuristico_calculado'\n",
        "\n",
        "def map_label(label):\n",
        "    if isinstance(label, str) and 'original' in label:\n",
        "        return 'original'\n",
        "    else:\n",
        "        return 'nao_original'\n",
        "\n",
        "df['target'] = df[target_column].apply(map_label)\n",
        "\n",
        "print(\"\\nDistribuição da variável alvo ('target'):\")\n",
        "print(df['target'].value_counts())\n",
        "\n",
        "# Seleção e Preparação das Features (Variáveis Preditivas)\n",
        "feature_columns = [\n",
        "    'nota_qualidade',\n",
        "    'seller_trust_level',\n",
        "    'desvio_preco_media_categoria'\n",
        "]\n",
        "for col in feature_columns:\n",
        "    if not np.issubdtype(df[col].dtype, np.number):\n",
        "        print(f\"A coluna '{col}' não é numérica. Tentando converter...\")\n",
        "        df[col] = df[col].astype(str).str.replace(',', '.').apply(pd.to_numeric, errors='coerce')\n",
        "\n",
        "\n",
        "\n",
        "# Tratar valores ausentes (NaN) que podem ter surgido da conversão ou já existiam.\n",
        "for col in feature_columns:\n",
        "    if df[col].isnull().any():\n",
        "        median_value = df[col].median()\n",
        "        df[col].fillna(median_value, inplace=True)\n",
        "        print(f\"Valores nulos na coluna '{col}' preenchidos com a mediana ({median_value}).\")\n",
        "\n",
        "# Definir X (features) e y (target)\n",
        "X = df[feature_columns]\n",
        "y = df['target']\n",
        "\n",
        "print(\"\\nFeatures selecionadas para o modelo (tipos de dados corrigidos):\")\n",
        "X.info() # Mostra os tipos de dados para confirmar a conversão\n",
        "print(\"\\nPrimeiras linhas das features:\")\n",
        "print(X.head())"
      ],
      "metadata": {
        "colab": {
          "base_uri": "https://localhost:8080/"
        },
        "id": "ie30bdlzenN-",
        "outputId": "4d3e4896-a177-40f6-f999-7a7bc20235d4"
      },
      "execution_count": 4,
      "outputs": [
        {
          "output_type": "stream",
          "name": "stdout",
          "text": [
            "Dataset 'ml_produtos_hp_final_features_target.csv' carregado com sucesso!\n",
            "O dataset tem 126 linhas e 23 colunas.\n",
            "\n",
            "Distribuição da variável alvo ('target'):\n",
            "target\n",
            "nao_original    76\n",
            "original        50\n",
            "Name: count, dtype: int64\n",
            "A coluna 'desvio_preco_media_categoria' não é numérica. Tentando converter...\n",
            "\n",
            "Features selecionadas para o modelo (tipos de dados corrigidos):\n",
            "<class 'pandas.core.frame.DataFrame'>\n",
            "RangeIndex: 126 entries, 0 to 125\n",
            "Data columns (total 3 columns):\n",
            " #   Column                        Non-Null Count  Dtype  \n",
            "---  ------                        --------------  -----  \n",
            " 0   nota_qualidade                126 non-null    int64  \n",
            " 1   seller_trust_level            126 non-null    int64  \n",
            " 2   desvio_preco_media_categoria  126 non-null    float64\n",
            "dtypes: float64(1), int64(2)\n",
            "memory usage: 3.1 KB\n",
            "\n",
            "Primeiras linhas das features:\n",
            "   nota_qualidade  seller_trust_level  desvio_preco_media_categoria\n",
            "0               3                   3                      0.598939\n",
            "1               3                   3                      0.174779\n",
            "2               3                   3                     -0.577051\n",
            "3               3                   3                     -0.044529\n",
            "4               3                   3                     -0.595945\n"
          ]
        }
      ]
    },
    {
      "cell_type": "markdown",
      "source": [
        "# 2. Estratégia de Classificação e Construção do Modelo"
      ],
      "metadata": {
        "id": "Oz7n6SWmYnWU"
      }
    },
    {
      "cell_type": "markdown",
      "source": [
        "### **Construção do Classificador**\n",
        "Para realizar a tarefa de classificação, exploramos diferentes abordagens ao longo do projeto.\n",
        "#### **Abordagem Inicial com LLM via API:**\n",
        "Nossa primeira tentativa envolveu a criação de prompts detalhados para um Modelo de Linguagem de Grande Escala (LLM), como o Google Gemini. A estratégia era fornecer ao modelo um resumo de cada anúncio, incluindo os atributos extraídos na Sprint 1, e instruí-lo a classificar o anúncio em uma das categorias definidas. Utilizamos uma técnica de few-shot prompting, onde fornecemos ao modelo alguns exemplos de classificações corretas para guiá-lo em sua tarefa.\n",
        "\n",
        "Apesar de ser uma abordagem flexivel, observamos que o LLM apresentava dificuldades em seguir hierarquias de regras complexas de forma consistente, resultando em uma performance inicial abaixo do esperado.\n",
        "#### **Abordagem Final com Classificador Tradicional (Random Forest):**\n",
        "Com base nos desafios da abordagem anterior, optamos por uma estratégia híbrida. Utilizamos os dados estruturados e enriquecidos (como nota_qualidade, seller_trust_level e desvio_preco_media_categoria) como features para treinar um modelo de Machine Learning clássico.\n",
        "\n",
        "O algoritmo escolhido foi o Random Forest Classifier. Esta decisão se baseou em sua conhecida robustez para lidar com dados tabulares, sua capacidade de capturar interações complexas entre as features e sua interpretabilidade, que nos permite analisar quais fatores são mais importantes para a classificacao. Esta abordagem se mostrou significativamente mais precisa, rápida e escalável para o volume de dados do projeto."
      ],
      "metadata": {
        "id": "1ncWZas6YsfS"
      }
    },
    {
      "cell_type": "code",
      "source": [
        "# Bloco 3: Divisão dos Dados, Treinamento e Avaliação do Modelo\n",
        "\n",
        "X_train, X_test, y_train, y_test = train_test_split(\n",
        "    X, y, test_size=0.2, random_state=42, stratify=y\n",
        ")\n",
        "\n",
        "print(f\"Tamanho do conjunto de treino: {len(X_train)} amostras\")\n",
        "print(f\"Tamanho do conjunto de teste:  {len(X_test)} amostras\")\n",
        "\n",
        "# Treinamento do Modelo\n",
        "model = RandomForestClassifier(n_estimators=100, random_state=42, class_weight='balanced')\n",
        "\n",
        "print(\"\\nTreinando o modelo RandomForestClassifier...\")\n",
        "model.fit(X_train, y_train)\n",
        "print(\"Treinamento concluído!\")\n",
        "\n",
        "# Avaliação do Modelo no Conjunto de Teste\n",
        "print(\"\\n--- Avaliação de Performance no Conjunto de Teste ---\")\n",
        "y_pred = model.predict(X_test)\n",
        "\n",
        "# Acurácia\n",
        "accuracy = accuracy_score(y_test, y_pred)\n",
        "print(f\"\\nAcurácia do Modelo: {accuracy:.2%}\")\n",
        "\n",
        "# Relatório de Classificação\n",
        "print(\"\\nRelatório de Classificação:\")\n",
        "print(classification_report(y_test, y_pred))\n",
        "\n",
        "# Matriz de Confusão\n",
        "print(\"\\nMatriz de Confusão:\")\n",
        "cm = confusion_matrix(y_test, y_pred, labels=model.classes_)\n",
        "plt.figure(figsize=(8, 6))\n",
        "sns.heatmap(cm, annot=True, fmt='d', cmap='Blues', xticklabels=model.classes_, yticklabels=model.classes_)\n",
        "plt.title('Matriz de Confusão')\n",
        "plt.xlabel('Predito pelo Modelo')\n",
        "plt.ylabel('Verdadeiro (Label)')\n",
        "plt.show()"
      ],
      "metadata": {
        "colab": {
          "base_uri": "https://localhost:8080/",
          "height": 946
        },
        "id": "h41NMIzgGQVt",
        "outputId": "8095cefc-f33d-4e4a-a3a3-009b1ed563e8"
      },
      "execution_count": 5,
      "outputs": [
        {
          "output_type": "stream",
          "name": "stdout",
          "text": [
            "Tamanho do conjunto de treino: 100 amostras\n",
            "Tamanho do conjunto de teste:  26 amostras\n",
            "\n",
            "Treinando o modelo RandomForestClassifier...\n",
            "Treinamento concluído!\n",
            "\n",
            "--- Avaliação de Performance no Conjunto de Teste ---\n",
            "\n",
            "Acurácia do Modelo: 92.31%\n",
            "\n",
            "Relatório de Classificação:\n",
            "              precision    recall  f1-score   support\n",
            "\n",
            "nao_original       0.94      0.94      0.94        16\n",
            "    original       0.90      0.90      0.90        10\n",
            "\n",
            "    accuracy                           0.92        26\n",
            "   macro avg       0.92      0.92      0.92        26\n",
            "weighted avg       0.92      0.92      0.92        26\n",
            "\n",
            "\n",
            "Matriz de Confusão:\n"
          ]
        },
        {
          "output_type": "display_data",
          "data": {
            "text/plain": [
              "<Figure size 800x600 with 2 Axes>"
            ],
            "image/png": "[encoded data removed]"
          },
          "metadata": {}
        }
      ]
    },
    {
      "cell_type": "code",
      "execution_count": 9,
      "metadata": {
        "colab": {
          "base_uri": "https://localhost:8080/",
          "height": 687
        },
        "id": "geBbay1Geds4",
        "outputId": "4eaa25c2-69fa-445f-cc57-dbfb5d3ca230"
      },
      "outputs": [
        {
          "output_type": "stream",
          "name": "stdout",
          "text": [
            "\n",
            "--- Importância das Features ---\n",
            "Quais sinais o modelo considerou mais importantes para a classificação?\n",
            "                        feature  importance\n",
            "2  desvio_preco_media_categoria    0.624971\n",
            "1            seller_trust_level    0.266563\n",
            "0                nota_qualidade    0.108466\n"
          ]
        },
        {
          "output_type": "display_data",
          "data": {
            "text/plain": [
              "<Figure size 1000x600 with 1 Axes>"
            ],
            "image/png": "[encoded data removed]"
          },
          "metadata": {}
        }
      ],
      "source": [
        "# Bloco 4: Análise de Importância das Features e Conclusões Finais\n",
        "\n",
        "# Extrair a importância de cada feature do modelo treinado\n",
        "feature_importances = pd.DataFrame({\n",
        "    'feature': feature_columns,\n",
        "    'importance': model.feature_importances_\n",
        "}).sort_values('importance', ascending=False)\n",
        "\n",
        "print(\"\\n--- Importância das Features ---\")\n",
        "print(\"Quais sinais o modelo considerou mais importantes para a classificação?\")\n",
        "print(feature_importances)\n",
        "\n",
        "# Plotar a importância das features\n",
        "plt.figure(figsize=(10, 6))\n",
        "sns.barplot(\n",
        "    x='importance',\n",
        "    y='feature',\n",
        "    data=feature_importances,\n",
        "    hue='feature',\n",
        "    palette='viridis',\n",
        "    legend=False\n",
        ")\n",
        "plt.title('Importância de Cada Feature para o Modelo')\n",
        "plt.xlabel('Importância Relativa')\n",
        "plt.ylabel('Feature')\n",
        "plt.show()\n",
        "\n",
        "# Extrai a feature mais importante dinamicamente\n",
        "most_important_feature = feature_importances.iloc[0]['feature']\n",
        "second_most_important = feature_importances.iloc[1]['feature']"
      ]
    },
    {
      "cell_type": "markdown",
      "source": [
        "# 3. Análise de Resultados e Exemplos"
      ],
      "metadata": {
        "id": "duEIcq4kZZ_p"
      }
    },
    {
      "cell_type": "markdown",
      "source": [
        "### **Análise dos Resultados e Exemplos de Classificação**\n",
        "\n",
        "O modelo final de Machine Learning, treinado com as features enriquecidas, alcançou uma acurácia de 92.31% no conjunto de teste. A matriz de confusão e o relatório de classificação detalham o desempenho do sistema.\n",
        "\n",
        "### **Análise da Matriz de Confusão:**\n",
        "A matriz demonstra a alta eficácia do modelo. Dos 16 anúncios que requeriam atenção no conjunto de teste, o sistema identificou corretamente 15. Apenas um anúncio problemático foi incorretamente classificado como original. Da mesma forma, dos 10 anúncios originais, 9 foram classificados corretamente, com apenas um sendo erroneamente sinalizado para revisão.\n",
        "\n",
        "### **Exemplos de Classificação Correta:**\n",
        "\n",
        "* **Acerto (Não Original):** Um anúncio de \"Toner Compativel com HP\" com preço muito abaixo da média foi corretamente classificado como \"nao_original\". O modelo provavelmente utilizou a combinação das features originalidade (extraída na Sprint 1) e desvio_preco_media_categoria para tomar a decisão.\n",
        "* **Acerto (Original):** Um anúncio de um \"Cartucho HP 664XL Original\" vendido por um revendedor autorizado e com preço dentro do esperado foi corretamente classificado como \"original\". Neste caso, o nível de confiança no vendedor e o baixo desvio de preço contribuíram para a classificação correta.\n",
        "\n",
        "### **Exemplo de Classificação Incorreta:**\n",
        "\n",
        "* **Erro (Falso Negativo):** Um anúncio problemático foi classificado como \"original\". Ao analisar este caso especifico, notamos que ele não continha palavras-chave óbvias como \"compatível\" e seu preço estava no limite do que consideramos suspeito. Isso indica que anunciantes podem usar táticas sutis para evitar a detecção, um ponto que pode ser aprimorado em futuras versões do modelo.\n",
        "\n"
      ],
      "metadata": {
        "id": "gw88DYWcZcKU"
      }
    },
    {
      "cell_type": "markdown",
      "source": [
        "# 4. Reflexões Finais e Próximos Passos"
      ],
      "metadata": {
        "id": "_vohOjnpZzlC"
      }
    },
    {
      "cell_type": "markdown",
      "source": [
        "### **Reflexões sobre o Uso de LLMs e Próximos Passos**"
      ],
      "metadata": {
        "id": "KFcusHMbZ1_k"
      }
    },
    {
      "cell_type": "markdown",
      "source": [
        "### **Reflexões sobre a Abordagem:**\n",
        "Concluímos que a maior força dos LLMs neste projeto foi na etapa de engenharia de features. A capacidade do modelo de ler descrições não estruturadas e extrair atributos quantificáveis, como uma nota_qualidade ou a originalidade declarada, foi fundamental. Esses dados estruturados se tornaram a matéria-prima para a etapa seguinte.\n",
        "\n",
        "Para a tarefa de classificação final, a abordagem de treinar um modelo de Machine Learning classico (Random Forest) com as features extraídas se mostrou superior em termos de precisão, custo computacional e velocidade. Essa arquitetura híbrida, que combina a capacidade de interpretação de linguagem dos LLMs com a eficiência de classificação dos modelos tradicionais, representa uma solução robusta e escalável.\n",
        "\n",
        "### **Recomendações para Próximos Passos:**\n",
        "\n",
        "Com base nos aprendizados deste projeto, sugerimos os seguintes caminhos para aprimoramento futuro:\n",
        "\n",
        "1. **Enriquecimento de Features:** A performance do modelo está diretamente ligada à qualidade das features. Recomenda-se a incorporação de novos sinais, como a análise de imagens dos anúncios para verificar a autenticidade das embalagens e a análise da reputação historica de cada vendedor.\n",
        "2. **Modelo de Detecção de Anomalias:** Para anúncios que não se encaixam claramente nas categorias, um modelo de detecção de anomalias poderia ser treinado para encontrar padrões incomuns que possam indicar novas táticas de fraude.\n",
        "\n",
        "3. **Implementação de um Ciclo de Feedback:** O sistema pode ser implementado em um ambiente de produção onde as classificações são revisadas por analistas humanos. O feedback dessa analise (confirmando se uma previsão estava correta ou não) pode ser usado para retreinar e aprimorar o modelo continuamente, garantindo sua adaptação constante às mudanças do mercado."
      ],
      "metadata": {
        "id": "j_J1Od-EZ4WM"
      }
    }
  ]
}